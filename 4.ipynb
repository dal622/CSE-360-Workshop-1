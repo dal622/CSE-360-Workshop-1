{
 "cells": [
  {
   "cell_type": "code",
   "execution_count": 1,
   "metadata": {
    "colab": {
     "base_uri": "https://localhost:8080/",
     "height": 35
    },
    "colab_type": "code",
    "id": "3yS4iSSX7qkE",
    "outputId": "6747fa48-4123-400d-c86b-eabfda392d5a"
   },
   "outputs": [
    {
     "name": "stdout",
     "output_type": "stream",
     "text": [
      "Populating the interactive namespace from numpy and matplotlib\n"
     ]
    }
   ],
   "source": [
    "%pylab inline\n",
    "plt.style.use('dark_background')\n",
    "pylab.rcParams['figure.figsize'] = (10.0, 6.0)"
   ]
  },
  {
   "cell_type": "markdown",
   "metadata": {},
   "source": [
    "# Polynomial Trajectories"
   ]
  },
  {
   "cell_type": "code",
   "execution_count": 2,
   "metadata": {
    "colab": {
     "base_uri": "https://localhost:8080/",
     "height": 374
    },
    "colab_type": "code",
    "id": "AUUrZhOkmGTA",
    "outputId": "578d5b40-af46-4a88-b770-589f7c57ce7b"
   },
   "outputs": [],
   "source": [
    "def point_to_point_traj(x1, x2, v1, v2, delta_t):\n",
    "    t = np.linspace(0, delta_t, 100)  \n",
    "    a0 = x1\n",
    "    a1 = v1\n",
    "    a2 = (3*x2 - 3*x1 - 2*v1*delta_t - v2 * delta_t) / (delta_t**2)\n",
    "    a3 = (2*x1 + (v1 + v2) * delta_t  - 2 * x2) / (delta_t**3)\n",
    "    \n",
    "    polynomial = a0 + a1 * t + a2 * t**2 + a3 * t**3\n",
    "    derivative = a1 + 2*a2 * t + 3 * a3 * t**2\n",
    "    return polynomial, derivative\n",
    "\n",
    "\n",
    "def piecewise2D (X,Y, Vx, Vy, T):\n",
    "    theta_x, theta_y, dx, dy = [], [], [], []\n",
    "\n",
    "    for i in range(len(P)-1):          \n",
    "        theta_xi, dxi = point_to_point_traj(X[i], X[i+1], Vx[i], Vx[i+1], T[i+1] - T[i])\n",
    "        theta_yi, dyi = point_to_point_traj(Y[i], Y[i+1], Vy[i], Vy[i+1], T[i+1] - T[i])\n",
    "\n",
    "        theta_x += theta_xi.tolist()\n",
    "        theta_y += theta_yi.tolist()\n",
    "        dx += dxi.tolist()\n",
    "        dy += dyi.tolist()\n",
    "\n",
    "        plot(theta_xi, theta_yi)\n",
    "    return theta_x, theta_y, dx, dy"
   ]
  },
  {
   "cell_type": "markdown",
   "metadata": {},
   "source": [
    "# Plotting functions"
   ]
  },
  {
   "cell_type": "code",
   "execution_count": 3,
   "metadata": {},
   "outputs": [],
   "source": [
    "# Plotting\n",
    "def plot_points():\n",
    "    plot(X,Y, '--')\n",
    "    plot(X,Y, 'o')\n",
    "    quiver(X,Y, Vx, Vy, color='r')\n",
    "    \n",
    "# Speed\n",
    "def plot_speed():\n",
    "    speed = np.sqrt(np.array(dx)**2 + np.array(dy)**2)\n",
    "    plot(speed)"
   ]
  },
  {
   "cell_type": "code",
   "execution_count": 4,
   "metadata": {
    "colab": {},
    "colab_type": "code",
    "id": "d1zDzutv7zV3"
   },
   "outputs": [],
   "source": [
    "##### Requirements for the trajectory\n",
    "\n",
    "# Waypoints\n",
    "p1 = [-5.,-7]\n",
    "p2 = [10,-7]\n",
    "p3 = [10,-3]\n",
    "p4 = [0,-3]\n",
    "p5 = [0,6]\n",
    "p6 = [3,6]\n",
    "p7 = [3,-2.5]\n",
    "p8 = [7,-2.5]\n",
    "p9 = [7,10]\n",
    "p10 = [9,10]\n",
    "\n",
    "# Velocities\n",
    "v1 = [1,0]\n",
    "v2 = [0,1]\n",
    "v3 = [-1,0]\n",
    "v4 = [0,1]\n",
    "v5 = [1,0]\n",
    "v6 = [0,-1]\n",
    "v7 = [1,0]\n",
    "v8 = [0,1]\n",
    "v9 = [1,0]\n",
    "v10 = [0,0]\n",
    "\n",
    "# Time\n",
    "t1 = 0\n",
    "t2 = 12\n",
    "t3 = 22\n",
    "t4 = 32\n",
    "t5 = 42\n",
    "t6 = 52\n",
    "t7 = 62\n",
    "t8 = 72\n",
    "t9 = 82\n",
    "t10 = 92"
   ]
  },
  {
   "cell_type": "code",
   "execution_count": 5,
   "metadata": {
    "colab": {
     "base_uri": "https://localhost:8080/",
     "height": 374
    },
    "colab_type": "code",
    "id": "J6Z7VpZE-F8c",
    "outputId": "1e600584-65f5-4ab5-b505-3ed1f479f706"
   },
   "outputs": [
    {
     "data": {
      "image/png": "[encoded data removed]",
      "text/plain": [
       "<Figure size 720x432 with 1 Axes>"
      ]
     },
     "metadata": {},
     "output_type": "display_data"
    }
   ],
   "source": [
    "# Convert the initial conditions to a vector form\n",
    "P = np.vstack((p1, p2, p3, p4, p5, p6, p7, p8, p9, p10))\n",
    "V = np.vstack((v1, v2, v3, v4, v5, v6, v7, v8, v9,v10))\n",
    "T = [t1, t2, t3, t4, t5, t6, t7, t8, t9,t10]\n",
    "\n",
    "X, Y = P[:,0], P[:,1]\n",
    "Vx, Vy = V[:,0], V[:,1]\n",
    "\n",
    "\n",
    "    \n",
    "plot_points()"
   ]
  },
  {
   "cell_type": "markdown",
   "metadata": {},
   "source": [
    "## Explanation\n",
    "\n",
    "I first calculated the number of points I would need, which was the number of times the velocity changed + the initial and final points. This would add up to 10 points, which all have different velocities. "
   ]
  },
  {
   "cell_type": "code",
   "execution_count": null,
   "metadata": {
    "colab": {
     "base_uri": "https://localhost:8080/",
     "height": 447
    },
    "colab_type": "code",
    "id": "r_6ppophIX0u",
    "outputId": "ac0f0131-2ec3-4fde-925c-c473f0c0ec62"
   },
   "outputs": [],
   "source": []
  }
 ],
 "metadata": {
  "colab": {
   "collapsed_sections": [],
   "name": "trajectories",
   "provenance": []
  },
  "kernelspec": {
   "display_name": "Python 3",
   "language": "python",
   "name": "python3"
  },
  "language_info": {
   "codemirror_mode": {
    "name": "ipython",
    "version": 3
   },
   "file_extension": ".py",
   "mimetype": "text/x-python",
   "name": "python",
   "nbconvert_exporter": "python",
   "pygments_lexer": "ipython3",
   "version": "3.6.8"
  }
 },
 "nbformat": 4,
 "nbformat_minor": 4
}
